{
 "cells": [
  {
   "cell_type": "markdown",
   "id": "fc85de29-de66-4353-9305-e7bcb025edc2",
   "metadata": {},
   "source": [
    "# Experiment Two: Switches in Observation Noise\n",
    "\n",
    "Assume that $s_t \\sim \\mathcal{N}(s_{t-1},\\nu)$ for constant process variance $\\nu$. Further, assume that \n",
    "$$o_t \\sim \\mathcal{N}(s_t, \\sigma_t^2).$$\n",
    "Throught the trial, observation noise $\\sigma_t^2$ switches between two values $\\sigma_\\ell^2, \\sigma_h^2,$ where $\\sigma_\\ell^2 < \\sigma_h^2$."
   ]
  },
  {
   "cell_type": "code",
   "execution_count": 1,
   "id": "9d96ec7e-b3c0-4fb7-9e98-28ce52103bba",
   "metadata": {},
   "outputs": [],
   "source": [
    "# import and fix seed \n",
    "from vkf import VKF\n",
    "import numpy as np \n",
    "import matplotlib.pyplot as plt\n",
    "np.random.seed(42)\n",
    "from run_switch_vkf import run_switch_vkf\n",
    "from rolling_lambda_analysis import lambda_rolling_average_analysis"
   ]
  },
  {
   "cell_type": "markdown",
   "id": "7715b54a-e6ea-4021-955a-20f6c82d4c22",
   "metadata": {},
   "source": [
    "## 1. One Trial Example"
   ]
  },
  {
   "cell_type": "code",
   "execution_count": 4,
   "id": "dc2ffa13-c9bb-4be4-a732-831f2e77c345",
   "metadata": {},
   "outputs": [],
   "source": [
    "# Set parameters\n",
    "T = 1000             # Number of time steps\n",
    "s_low = 0.4       # Observation noise (std dev) in predictable phase\n",
    "s_high = 0.1# Observation noise (std dev) in unpredictable phase\n",
    "switch_interval = 200 # Interval for switching between volatility phases\n",
    "s0 = 10 #initial latent state\n",
    "l = 0.1 #lambda\n",
    "v0 = 0.1 # initial volatility estimate\n",
    "s = 0.1 # Initial posterior variance estimate \n",
    "switches = list(range(0, T + 1, 200))"
   ]
  },
  {
   "cell_type": "code",
   "execution_count": 5,
   "id": "12c4c865-a670-479f-b63b-df332eeba8e4",
   "metadata": {},
   "outputs": [],
   "source": [
    "latent_state, observations, signals = run_switch_vkf(T,s0,s_low,s_high,v0=v0,l=l,s=s,switch_indices=switches)\n"
   ]
  },
  {
   "cell_type": "code",
   "execution_count": null,
   "id": "3a598fc7-fd93-4a29-a3b7-c8df349375ae",
   "metadata": {},
   "outputs": [],
   "source": [
    "#extract relevant valuess \n",
    "m = signals['predictions']\n",
    "vol = signals['volatility'] \n",
    "lr = signals['learning_rate']\n",
    "\n",
    "#set up plot \n",
    "plt.figure(figsize=(10,6)) \n",
    "plt.plot(latent_state,label='True', color='black', linewidth=2)\n",
    "plt.title(rf\"$\\lambda={l},\\: \\nu_0={v0}, \\: \\sigma^2={s}$\", fontsize=14)\n",
    "plt.grid()\n",
    "plt.xlabel('Trial', fontsize=14)\n",
    "\n",
    "# Shade regions: 0-50, 100-150, 200-250, etc.\n",
    "for start in range(0, len(latent_state), 2*switch_interval):\n",
    "    plt.axvspan(start, start + switch_interval, color='blue', alpha=0.1)\n",
    "\n",
    "#plot observations\n",
    "plt.scatter(range(len(observations)), observations, label='observations', color='red', alpha=0.5, s=5)\n",
    "plt.ylabel(\"Predictions\", fontsize=14)\n",
    "plt.plot(m[2:], label='Predictions', color='blue', linestyle='--')\n",
    "plt.legend()\n",
    "plt.savefig(\"Figures/exp2_walk.png\")"
   ]
  },
  {
   "cell_type": "code",
   "execution_count": null,
   "id": "4e3f42ad-225d-4b4f-a5a3-edf9d6662f01",
   "metadata": {},
   "outputs": [],
   "source": [
    "plt.figure(figsize=(10,6)) \n",
    "\n",
    "# Shade regions: 0-50, 100-150, 200-250, etc.\n",
    "for start in range(0, len(latent_state), 2*switch_interval):\n",
    "    plt.axvspan(start, start + switch_interval, color='blue', alpha=0.1)\n",
    "    \n",
    "plt.plot(vol,color='blue')\n",
    "plt.grid()\n",
    "plt.xlabel('Trials', fontsize=14); plt.ylabel('Volatility', fontsize=14) \n",
    "plt.title(rf\"$\\lambda={l},\\: \\nu_0={v0}, \\: \\sigma^2=0.1, \\sigma_h^2 = 0.4, \\sigma_\\ell^2 = 0.1$\", fontsize=14)\n",
    "plt.text(0.5, -0.15, caption_text, ha='center', va='top', transform=plt.gca().transAxes, fontsize=14)\n",
    "plt.savefig(\"Figures/exp2_vol.png\"); plt.show()"
   ]
  },
  {
   "cell_type": "code",
   "execution_count": null,
   "id": "0135723a-a96a-412a-b63b-ac9b357702ea",
   "metadata": {},
   "outputs": [],
   "source": [
    "plt.figure(figsize=(10,6)) \n",
    "\n",
    "# Shade regions: 0-50, 100-150, 200-250, etc.\n",
    "for start in range(0, len(latent_state), 2*switch_interval):\n",
    "    plt.axvspan(start, start + switch_interval, color='blue', alpha=0.1)\n",
    "    \n",
    "plt.plot(lr,color='green') \n",
    "plt.grid()\n",
    "plt.xlabel('Trials', fontsize=14); plt.ylabel('Learning Rate', fontsize=14) \n",
    "plt.title(rf\"$\\lambda={l},\\: \\nu_0={v0}, \\: \\sigma^2={s}$\", fontsize=14)\n",
    "plt.savefig(\"Figures/exp2_lr.png\"); plt.show()"
   ]
  },
  {
   "cell_type": "code",
   "execution_count": null,
   "id": "851141e7-d025-4159-bb5f-4043651aeb4e",
   "metadata": {},
   "outputs": [],
   "source": [
    "plt.figure(figsize=(10,6)) \n",
    "\n",
    "abs_delta = abs(signals['prediction_error'])\n",
    "\n",
    "# Shade regions: 0-50, 100-150, 200-250, etc.\n",
    "for start in range(0, len(latent_state), 2*switch_interval):\n",
    "    plt.axvspan(start, start + switch_interval, color='blue', alpha=0.1)\n",
    "    \n",
    "plt.plot(abs(signals['volatility_error']),color='green') \n",
    "plt.grid()\n",
    "plt.xlabel('Trials', fontsize=14); plt.ylabel('Prediction Error', fontsize=14) \n",
    "plt.title(rf\"$\\lambda={l},\\: \\nu_0={v0}, \\: \\sigma^2={s}$\", fontsize=14)\n",
    "plt.savefig(\"Figures/exp2_prederr.png\"); plt.show()"
   ]
  },
  {
   "cell_type": "markdown",
   "id": "dd2b800f-0715-4cf2-a743-5d16bf87ec66",
   "metadata": {},
   "source": [
    "## Part 2. Rolling Average"
   ]
  },
  {
   "cell_type": "code",
   "execution_count": 10,
   "id": "99bdb263-18d1-4a79-926c-8acda9cb1988",
   "metadata": {},
   "outputs": [],
   "source": [
    "l_vals, correlations = lambda_rolling_average_analysis(T,s0,s_low,s_high,v=0.1,v0=v0,s=s,switch_indices=switches,l_num=200)"
   ]
  },
  {
   "cell_type": "code",
   "execution_count": null,
   "id": "71da0e2e-5d94-4365-b8fe-dc053fbed410",
   "metadata": {},
   "outputs": [],
   "source": [
    "# Create a figure with a 2x2 grid of subplots\n",
    "fig, axes = plt.subplots(2, 2, figsize=(10, 8))  # 2 rows, 2 columns\n",
    "\n",
    "# Flatten the 2D array of axes for easier iteration\n",
    "axes = axes.flatten()\n",
    "\n",
    "# Loop through keys and corresponding axes\n",
    "for i, key in enumerate(correlations.keys()):\n",
    "    ax = axes[i]\n",
    "    ax.loglog(l_vals, correlations[key], 'o', markersize=5, alpha=0.9)\n",
    "    ax.set_ylabel(key, fontsize=14)\n",
    "    ax.set_xlabel('$\\lambda$', fontsize=14)\n",
    "    ax.grid()\n",
    "\n",
    "# Adjust layout to avoid overlap\n",
    "plt.tight_layout()\n",
    "\n",
    "#save fig\n",
    "plt.savefig(\"Figures/exp2_cors.png\")\n",
    "\n",
    "# Show the complete figure\n",
    "plt.show()"
   ]
  },
  {
   "cell_type": "code",
   "execution_count": null,
   "id": "98a55bb5-97be-42da-b726-058a69e687a8",
   "metadata": {},
   "outputs": [],
   "source": [
    "from scipy.stats import linregress\n",
    "\n",
    "# Assume `x` and `y` are your data\n",
    "log_x = np.log10(ls)[-20:]\n",
    "log_y = np.log10(cors['pearson_indexes'])[-20:]\n",
    "\n",
    "# Perform linear regression on log-transformed data\n",
    "slope, intercept, r_value, p_value, std_err = linregress(log_x, log_y)\n",
    "\n",
    "print(\"Slope:\", slope)\n",
    "print(\"Intercept:\", intercept)\n",
    "print(\"R-squared:\", r_value**2)\n",
    "print(f\"w*l = {10**intercept}\")"
   ]
  },
  {
   "cell_type": "code",
   "execution_count": null,
   "id": "0ed9aab1-2dd7-4b90-99c5-870c3fb07014",
   "metadata": {},
   "outputs": [],
   "source": [
    "# Assume `x` and `y` are your data\n",
    "log_x = np.log10(ls)[-90:]\n",
    "log_y = np.log10(cors['spearman_indexes'])[-90:]\n",
    "\n",
    "# Perform linear regression on log-transformed data\n",
    "slope, intercept, r_value, p_value, std_err = linregress(log_x, log_y)\n",
    "\n",
    "print(\"Slope:\", slope)\n",
    "print(\"Intercept:\", intercept)\n",
    "print(\"R-squared:\", r_value**2)\n",
    "print(f\"w*l = {10**intercept}\")"
   ]
  },
  {
   "cell_type": "code",
   "execution_count": null,
   "id": "765163f8-a412-4388-b307-184c0748e2fc",
   "metadata": {},
   "outputs": [],
   "source": []
  }
 ],
 "metadata": {
  "kernelspec": {
   "display_name": "Python 3",
   "language": "python",
   "name": "python3"
  },
  "language_info": {
   "codemirror_mode": {
    "name": "ipython",
    "version": 3
   },
   "file_extension": ".py",
   "mimetype": "text/x-python",
   "name": "python",
   "nbconvert_exporter": "python",
   "pygments_lexer": "ipython3",
   "version": "3.9.5"
  }
 },
 "nbformat": 4,
 "nbformat_minor": 5
}
